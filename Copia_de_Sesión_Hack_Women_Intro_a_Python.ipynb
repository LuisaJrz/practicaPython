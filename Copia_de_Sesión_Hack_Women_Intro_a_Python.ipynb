{
  "nbformat": 4,
  "nbformat_minor": 0,
  "metadata": {
    "colab": {
      "name": "Copia de Sesión Hack Women- Intro a Python",
      "provenance": [],
      "collapsed_sections": [],
      "toc_visible": true,
      "include_colab_link": true
    },
    "kernelspec": {
      "name": "python3",
      "display_name": "Python 3"
    }
  },
  "cells": [
    {
      "cell_type": "markdown",
      "metadata": {
        "id": "view-in-github",
        "colab_type": "text"
      },
      "source": [
        "<a href=\"https://colab.research.google.com/github/LuisaJrz/practicaPython/blob/main/Copia_de_Sesi%C3%B3n_Hack_Women_Intro_a_Python.ipynb\" target=\"_parent\"><img src=\"https://colab.research.google.com/assets/colab-badge.svg\" alt=\"Open In Colab\"/></a>"
      ]
    },
    {
      "cell_type": "markdown",
      "metadata": {
        "id": "OpSHrtcJLQEU"
      },
      "source": [
        "# Introducción a Python\n",
        "\n",
        "A lo largo de este cuaderno explicaremos algunos conceptos básicos de Python. Los temas específicos que cubriremos en estos cuadernos introductorios son los siguientes:\n",
        "\n",
        "1. ¿Qué es Python?\n",
        "2. Objetos avanzados: _Listas_ y _diccionarios_\n",
        "3. Empaquetando código - _Funciones_\n",
        "\n",
        "### Planteamiento del problema:\n",
        "\n",
        "Imagina que queremos crear un directorio que contenga toda la información de los estudiantes de nuestro club. Para ello, necesitaremos construir paso a paso la idea completa del proyecto.\n",
        "\n",
        "Para ello, necesitamos saber sobre tipos de variables, objetos avanzados como listas y diccionarios, cómo crear funciones para operar algunos valores y cómo crear nuevos objetos.\n",
        "\n",
        "\n",
        "## ¿Qué es Python?\n",
        "\n",
        "<center>\n",
        "    <img width=\"50%\" src=\"https://www.python.org/static/community_logos/python-logo-generic.svg\">\n",
        "</center>\n",
        "\n",
        "Python es un lenguaje de programación **interpretado**, lo que significa que un _interpretador_ ejecuta y ejecuta su código línea por línea en lugar de compilarlo. Python tiene una sintaxis elegante que te obliga a **aplicar sangría a tu código para construir bloques de código**, por lo que Python no usa `{}` para bloques de código. No es común usar punto y coma en Python (`;`) al final de cualquier oración. Otra cosa interesante de Python es que no necesita declarar variables, solo las define, y sucede que Python **se escribe dinámicamente**.\n",
        "\n",
        "### Hola mundo en Python\n",
        "\n",
        "Usaremos las funciones de entrada y salida de Python para crear nuestro primer hola mundo.\n",
        "\n",
        "Solo necesita ejecutar la siguiente celda con código presionando el botón _play_ o presionando `Shift + Enter` en su teclado."
      ]
    },
    {
      "cell_type": "markdown",
      "metadata": {
        "id": "RSJW87sPXOAh"
      },
      "source": [
        "## Variables\n",
        "\n",
        "Python tiene varios tipos de variables de forma nativa. Comenzando con variables numéricas, Python puede trabajar con números enteros, números flotantes y números complejos. También cuenta con cadenas de caracteres para trabajar con texto y otro tipo de variables llamadas booleanos para guardar valores binarios.\n",
        "\n",
        "La forma en que declaramos las variables es la siguiente:\n",
        "\n",
        "```python\n",
        "variable_name = <value>\n",
        "```\n",
        "\n",
        "El nombre de una variable no puede tener espacios, debe comenzar con una letra, puede contener letras mayúsculas o números dentro del nombre.\n",
        "\n",
        "#### Ejemplo:\n",
        "\n",
        "```python\n",
        "my_dog = \"Mirlo\"\n",
        "```\n",
        "\n",
        "Para obtener el tipo de una variable, podemos usar la función `type ()` y pasar como parámetro la variable que queremos conocer.\n",
        "\n",
        "#### Ejemplo:\n",
        "\n",
        "```python\n",
        "type(my_dog)\n",
        "```"
      ]
    },
    {
      "cell_type": "markdown",
      "metadata": {
        "id": "nlMAcIGEYIef"
      },
      "source": [
        "Hay varios tipos de variables, ¡incluso números complejos en Python!\n",
        "\n",
        "#### Ejercicio:\n",
        "\n",
        "Define e imprime el tipo y valor de las variables denominadas:\n",
        "- `name`, debe ser un` <str> `que contenga cualquier nombre\n",
        "- `age`, debe ser un` <int> `que contenga cualquier edad\n",
        "- `pi`, debe ser un` <float> `que contenga su mejor aproximación a pi\n",
        "- `modulus_one`, debe ser un `<complex>`que tiene [módulo](https://en.wikipedia.org/wiki/Absolute_value#Complex_numbers) uno"
      ]
    },
    {
      "cell_type": "markdown",
      "metadata": {
        "id": "U_cKNLU3YnP8"
      },
      "source": [
        "## Control de flujo (condicionales)\n",
        "\n",
        "Hasta ahora, sabemos cómo definir variables, por lo que podemos crear bloques de código un poco más avanzados. Lo primero que queremos hacer es crear una nueva variable llamada `under_age` y necesitaremos definirla usando una declaración contitional. Para ello, será útil recordar los operadores de comparación (`<, >, <=, >=, ==, !=`).\n",
        "\n",
        "La idea es la siguiente, si la persona es menor de edad, el valor de esta variable será \"Verdadero\" y será \"Falso\" en el otro caso.\n",
        "\n",
        "Para declarar una declaración condicional, se usa la siguiente sintaxis:\n",
        "\n",
        "```python\n",
        "if condition:\n",
        "    # Block of code for a satisfied condition \n",
        "else:\n",
        "    # Block of code for a non-satisfied condition \n",
        "```\n",
        "\n",
        "#### Ejemplo:\n"
      ]
    },
    {
      "cell_type": "code",
      "metadata": {
        "id": "9oJook66anxJ"
      },
      "source": [
        "dog_color = \"black\"\n",
        "if color == \"black\":\n",
        "    print(\"Indeed, this dog is black.\")\n",
        "else:\n",
        "    print(\"Nope, it is not a black dog.\")"
      ],
      "execution_count": null,
      "outputs": []
    },
    {
      "cell_type": "markdown",
      "metadata": {
        "id": "hkoa6UOarhBD"
      },
      "source": [
        "## Bucles (ciclos)\n",
        "\n",
        "**Iteración** significa ejecutar el mismo bloque de código una y otra vez, potencialmente muchas veces. Una estructura de programación que implementa la iteración se llama **bucle** (o **ciclo**).\n",
        "\n",
        "Hay dos tipos de iteración:\n",
        "- **Iteración definida**, en la que el número de repeticiones se especifica explícitamente de antemano\n",
        "- **Iteración indefinida**, en la que el bloque de código se ejecuta hasta que se cumple alguna condición\n",
        "\n",
        "En Python, la iteración indefinida se realiza con un ciclo `while` y la iteración definida se realiza con un ciclo `for`.\n",
        "\n",
        "### Ciclo `while`\n",
        "\n",
        "Para un ciclo `while` será importante **establecer una condición de parada**. El formato de un ciclo `while` se muestra a continuación:\n",
        "\n",
        "```python\n",
        "while condition:\n",
        "    # Code goes ehre!\n",
        "```\n",
        "\n",
        "#### Ejemplo:\n"
      ]
    },
    {
      "cell_type": "code",
      "metadata": {
        "id": "SSnssdYwqI_G"
      },
      "source": [
        "n_interation = 1\n",
        "\n",
        "while n_iteration <= 10:\n",
        "    print(f\"Iteration {n_iteration}.\")"
      ],
      "execution_count": null,
      "outputs": []
    },
    {
      "cell_type": "markdown",
      "metadata": {
        "id": "xJFl2lQ1qJak"
      },
      "source": [
        "### Ciclo `for`\n",
        "\n",
        "Python tiene un **ciclo basado en colecciones** o **ciclo basado en iteradores**. Este tipo de bucle itera sobre una colección de objetos, en lugar de especificar valores numéricos o condiciones:\n",
        "\n",
        "```python\n",
        "for i in <collection>:\n",
        "    <loop body>\n",
        "```\n",
        "\n",
        "#### Ejemplo:\n",
        "\n",
        "Podemos iterar a través de los elementos de una lista:\n"
      ]
    },
    {
      "cell_type": "code",
      "metadata": {
        "id": "RFk0YLulqOQW",
        "colab": {
          "base_uri": "https://localhost:8080/"
        },
        "outputId": "c97bf448-754e-475f-a74a-81cbe3ebd18c"
      },
      "source": [
        "months = [\n",
        "    'January',\n",
        "    'February',\n",
        "    'March',\n",
        "    'April',\n",
        "    'May',\n",
        "    'June',\n",
        "    'July',\n",
        "    'August',\n",
        "    'September',\n",
        "    'October',\n",
        "    'November',\n",
        "    'December',\n",
        "]\n",
        "\n",
        "for month in months:\n",
        "    print(f\"The current month is {month}.\")"
      ],
      "execution_count": 1,
      "outputs": [
        {
          "output_type": "stream",
          "name": "stdout",
          "text": [
            "The current month is January.\n",
            "The current month is February.\n",
            "The current month is March.\n",
            "The current month is April.\n",
            "The current month is May.\n",
            "The current month is June.\n",
            "The current month is July.\n",
            "The current month is August.\n",
            "The current month is September.\n",
            "The current month is October.\n",
            "The current month is November.\n",
            "The current month is December.\n"
          ]
        }
      ]
    },
    {
      "cell_type": "markdown",
      "metadata": {
        "id": "OHMgj3aavIqc"
      },
      "source": [
        "O iterar solo a través de un rango de números:"
      ]
    },
    {
      "cell_type": "code",
      "metadata": {
        "id": "nevHbKcsvIBa",
        "colab": {
          "base_uri": "https://localhost:8080/"
        },
        "outputId": "068c38cb-8962-471c-a92f-0863c4c5c1bb"
      },
      "source": [
        "for number in range(10):\n",
        "    print(f\"The current number is {number}.\")"
      ],
      "execution_count": 2,
      "outputs": [
        {
          "output_type": "stream",
          "name": "stdout",
          "text": [
            "The current number is 0.\n",
            "The current number is 1.\n",
            "The current number is 2.\n",
            "The current number is 3.\n",
            "The current number is 4.\n",
            "The current number is 5.\n",
            "The current number is 6.\n",
            "The current number is 7.\n",
            "The current number is 8.\n",
            "The current number is 9.\n"
          ]
        }
      ]
    },
    {
      "cell_type": "markdown",
      "metadata": {
        "id": "7Ko9pJ0_vrnb"
      },
      "source": [
        "**Nota:** *¿Todo esto aplica para las tuplas?*\n"
      ]
    },
    {
      "cell_type": "markdown",
      "metadata": {
        "id": "DZOOUM4jrn5O"
      },
      "source": [
        "## Diccionarios\n",
        "\n",
        "Python proporciona otro tipo de datos compuestos llamado **diccionario**, que es similar a una lista en que es una colección de objetos.\n",
        "\n",
        "Los diccionarios son diferentes de las listas principalmente por cómo acceder a sus elementos:\n",
        "\n",
        "- Se accede a los elementos de la lista por su posición en la lista, mediante indexación.\n",
        "- Se accede a los elementos del diccionario mediante llaves o claves (pares clave-valor)."
      ]
    },
    {
      "cell_type": "code",
      "metadata": {
        "id": "FNo_LTSuzEvk"
      },
      "source": [
        "student = {\n",
        "    \"name\": \"Luisa Juárez\",\n",
        "    \"email\": \"algo@gmail.com\"\n",
        "}"
      ],
      "execution_count": 23,
      "outputs": []
    },
    {
      "cell_type": "code",
      "source": [
        "student[\"email\"]"
      ],
      "metadata": {
        "colab": {
          "base_uri": "https://localhost:8080/",
          "height": 36
        },
        "id": "WnpSSFj_TPRU",
        "outputId": "a29c394e-b96e-4f85-ff96-e67aed1ccfc9"
      },
      "execution_count": 24,
      "outputs": [
        {
          "output_type": "execute_result",
          "data": {
            "application/vnd.google.colaboratory.intrinsic+json": {
              "type": "string"
            },
            "text/plain": [
              "'algo@gmail.com'"
            ]
          },
          "metadata": {},
          "execution_count": 24
        }
      ]
    },
    {
      "cell_type": "code",
      "source": [
        "student['edad']=30"
      ],
      "metadata": {
        "id": "hBQUNa1pTqtY"
      },
      "execution_count": 25,
      "outputs": []
    },
    {
      "cell_type": "code",
      "source": [
        "print(student)"
      ],
      "metadata": {
        "colab": {
          "base_uri": "https://localhost:8080/"
        },
        "id": "8zSnsvVsUAvk",
        "outputId": "ca1b6c79-aaa9-4b3f-974b-004aa935933d"
      },
      "execution_count": 26,
      "outputs": [
        {
          "output_type": "stream",
          "name": "stdout",
          "text": [
            "{'name': 'Luisa Juárez', 'email': 'algo@gmail.com', 'edad': 30}\n"
          ]
        }
      ]
    },
    {
      "cell_type": "code",
      "source": [
        "student.keys()"
      ],
      "metadata": {
        "colab": {
          "base_uri": "https://localhost:8080/"
        },
        "id": "9mi9hajsUKZH",
        "outputId": "7e0f53b8-de32-47a5-9f96-c23f9693a541"
      },
      "execution_count": 28,
      "outputs": [
        {
          "output_type": "execute_result",
          "data": {
            "text/plain": [
              "dict_keys(['name', 'email', 'edad'])"
            ]
          },
          "metadata": {},
          "execution_count": 28
        }
      ]
    },
    {
      "cell_type": "code",
      "source": [
        "for key in student.keys():\n",
        "  print(student[key])"
      ],
      "metadata": {
        "colab": {
          "base_uri": "https://localhost:8080/"
        },
        "id": "1oxYCNh5UKVr",
        "outputId": "b6d497e1-be32-47a5-e861-d6f8ca95c6ba"
      },
      "execution_count": 29,
      "outputs": [
        {
          "output_type": "stream",
          "name": "stdout",
          "text": [
            "Luisa Juárez\n",
            "algo@gmail.com\n",
            "30\n"
          ]
        }
      ]
    },
    {
      "cell_type": "code",
      "source": [
        "student.values()"
      ],
      "metadata": {
        "colab": {
          "base_uri": "https://localhost:8080/"
        },
        "id": "z6AbNPMNUKSc",
        "outputId": "8bc0971e-0505-4162-a165-ef897a0ff203"
      },
      "execution_count": 30,
      "outputs": [
        {
          "output_type": "execute_result",
          "data": {
            "text/plain": [
              "dict_values(['Luisa Juárez', 'algo@gmail.com', 30])"
            ]
          },
          "metadata": {},
          "execution_count": 30
        }
      ]
    },
    {
      "cell_type": "code",
      "source": [
        "student.items()"
      ],
      "metadata": {
        "colab": {
          "base_uri": "https://localhost:8080/"
        },
        "id": "K87o4yc0UKPJ",
        "outputId": "2a485931-7b55-401f-92b1-050eb59cff10"
      },
      "execution_count": 31,
      "outputs": [
        {
          "output_type": "execute_result",
          "data": {
            "text/plain": [
              "dict_items([('name', 'Luisa Juárez'), ('email', 'algo@gmail.com'), ('edad', 30)])"
            ]
          },
          "metadata": {},
          "execution_count": 31
        }
      ]
    },
    {
      "cell_type": "code",
      "source": [
        "for key,value in student.items():\n",
        "  print(key,value)"
      ],
      "metadata": {
        "colab": {
          "base_uri": "https://localhost:8080/"
        },
        "id": "1JcxBbX9U82E",
        "outputId": "2d380ba9-ed37-40ee-a842-3990d4eefd1a"
      },
      "execution_count": 33,
      "outputs": [
        {
          "output_type": "stream",
          "name": "stdout",
          "text": [
            "name Luisa Juárez\n",
            "email algo@gmail.com\n",
            "edad 30\n"
          ]
        }
      ]
    },
    {
      "cell_type": "markdown",
      "source": [
        "#Hack Women"
      ],
      "metadata": {
        "id": "K3sFDUxWBtxz"
      }
    },
    {
      "cell_type": "markdown",
      "metadata": {
        "id": "i6I0b2UkzcJb"
      },
      "source": [
        "## Funciones\n",
        "\n",
        "Las funciones nos permitirán empaquetar código que puede ser invocado a través de una línea con el nombre de la función.\n",
        "\n",
        "La estructura básica de una función es como sigue:\n",
        "\n",
        "```python\n",
        "def name_of_function(arguments):\n",
        "    # Code of the function\n",
        "\n",
        "    return something\n",
        "```\n",
        "\n",
        "La nomenclatura de las funciones es consistente con la de las variables."
      ]
    },
    {
      "cell_type": "markdown",
      "source": [
        ""
      ],
      "metadata": {
        "id": "A6xYziwfBrF1"
      }
    },
    {
      "cell_type": "code",
      "metadata": {
        "id": "PZTz7Shhrs1M"
      },
      "source": [
        "# Implement the 2nd of the Newton's laws of motion\n",
        "\n",
        "def F(m,a):\n",
        "  fuerza = m * a\n",
        "  return fuerza\n"
      ],
      "execution_count": 41,
      "outputs": []
    },
    {
      "cell_type": "code",
      "source": [
        " print(f\"{F(60,3)}N (Newton)\")"
      ],
      "metadata": {
        "colab": {
          "base_uri": "https://localhost:8080/"
        },
        "id": "Lk0RoON6XBOp",
        "outputId": "131b49b2-b2d4-4196-e138-56793de90af1"
      },
      "execution_count": 42,
      "outputs": [
        {
          "output_type": "stream",
          "name": "stdout",
          "text": [
            "180N (Newton)\n"
          ]
        }
      ]
    },
    {
      "cell_type": "markdown",
      "source": [
        "#Ejemplo 1\n",
        "-  Procedimiento CalcularMaxMin: recibe una lista de enteros  y devuelve\n",
        "el máximo y el mínimo de los números guardados en el vector.\n",
        "Parámetros de entrada: lista de enteros\n",
        "Valores de salida: valor máximo y mínimo"
      ],
      "metadata": {
        "id": "w6i3aF0EzsbT"
      }
    },
    {
      "cell_type": "code",
      "source": [
        "# Ejemplo 1\n",
        "\n",
        "import random\n",
        "\n",
        "def CalcularMaxMin(lista):\n",
        " return (max(lista),min(lista))\n",
        "\n",
        "numeros =[]\n",
        "\n",
        "for i in range(10):\n",
        "  numeros.append(random.randint(1,101))\n",
        "valorMax,valorMin = CalcularMaxMin(numeros)\n",
        "\n",
        "print(\"El valor máximo es: \",valorMax)\n",
        "print(\"El valor mínimo es: \",valorMin)"
      ],
      "metadata": {
        "id": "erZUUm7pw7qc",
        "colab": {
          "base_uri": "https://localhost:8080/"
        },
        "outputId": "dd8f911c-4290-4d3d-933b-ccaeae8c1654"
      },
      "execution_count": 48,
      "outputs": [
        {
          "output_type": "stream",
          "name": "stdout",
          "text": [
            "El valor máximo es:  81\n",
            "El valor mínimo es:  5\n"
          ]
        }
      ]
    },
    {
      "cell_type": "markdown",
      "source": [
        "#Ejemplo 2\n",
        "\n",
        "- Función CalcularAreaPerimetro: recibe el radio de una circunferencia y\n",
        "devuelve el área y el perímetro.\n",
        "Parámetros de entrada: radio (real)\n",
        "Valores de salida: área y perímetro (real)"
      ],
      "metadata": {
        "id": "xKZM-l4F0AEr"
      }
    },
    {
      "cell_type": "code",
      "source": [
        "# Ejemplo 2\n",
        "import math\n",
        "\n",
        "def CalcularAreaPerimetro(radio):\n",
        "  area = math.pi * radio ** 2\n",
        "  perimetro = 2 * math.pi * radio\n",
        "  return area,perimetro\n",
        "\n",
        "radio = float (input(\"Intruduce el radio: \"))\n",
        "area,perimetro = CalcularAreaPerimetro(radio)\n",
        "\n",
        "print(\"Área: \",area)\n",
        "print(\"Perimetro: \",perimetro)\n"
      ],
      "metadata": {
        "id": "jnCZxGp0wecv",
        "colab": {
          "base_uri": "https://localhost:8080/"
        },
        "outputId": "30abdb4f-1a42-4c20-ee2c-d5c5d96c4691"
      },
      "execution_count": 49,
      "outputs": [
        {
          "output_type": "stream",
          "name": "stdout",
          "text": [
            "Intruduce el radio: 4\n",
            "Área:  50.26548245743669\n",
            "Perimetro:  25.132741228718345\n"
          ]
        }
      ]
    },
    {
      "cell_type": "markdown",
      "source": [
        "# Ejemplo 3\n",
        "\n",
        "- Función centrar: Recibe una cadena y la imprime centrada en la pantalla."
      ],
      "metadata": {
        "id": "u0XxKuyQ0Qeg"
      }
    },
    {
      "cell_type": "code",
      "source": [
        "#Ejemplo 3\n",
        "\n",
        "def centrar(cad):\n",
        "  print(\" \" * int(40-(len(cad)/2)),cad)\n",
        "  print(\" \" * int(40-(len(cad)/2)), \"=\" * len(cad))\n",
        "\n",
        "mensaje1 = \"Hackwomen\"\n",
        "centrar(mensaje1)\n",
        "mensaje2 = \"SKILL FOR WOMEN IN TECH\"\n",
        "centrar(mensaje2)\n"
      ],
      "metadata": {
        "id": "iDD9RDGNtrGk",
        "colab": {
          "base_uri": "https://localhost:8080/"
        },
        "outputId": "e187c6d6-cf07-4c9c-d59e-3f4dd6fafe56"
      },
      "execution_count": 50,
      "outputs": [
        {
          "output_type": "stream",
          "name": "stdout",
          "text": [
            "                                    Hackwomen\n",
            "                                    =========\n",
            "                             SKILL FOR WOMEN IN TECH\n",
            "                             =======================\n"
          ]
        }
      ]
    },
    {
      "cell_type": "markdown",
      "source": [
        "# Ejemplo 4\n",
        "\n",
        "- Función Convertir a  segundos: Recibe una cantidad de horas, minutos y segundos y calcula a cuantos segundos corresponde."
      ],
      "metadata": {
        "id": "qqg4K8rc0gjL"
      }
    },
    {
      "cell_type": "code",
      "source": [
        "# Ejemplo 4\n",
        "\n",
        "def Convertir_A_Segundos(h,m,s):\n",
        "  return h * 3600 + m * 60 + s\n",
        "\n",
        "def Convertir_A_HMS(seg):\n",
        "  h = seg//3600\n",
        "  seg = seg - h*3600\n",
        "  m = seg//60\n",
        "  seg= seg-m*60\n",
        "  s= seg\n",
        "  return h,m,s\n",
        "\n",
        "while True:\n",
        "  print(\"1.- Convertir a segundos\")\n",
        "  print(\"2.- Convertir a h:m:s\")\n",
        "  print(\"3.- Salir\")\n",
        "\n",
        "  opcion = int(input())\n",
        "  if opcion == 1:\n",
        "    horas= int(input(\"Horas: \"))\n",
        "    minu= int(input(\"Minutos: \"))\n",
        "    seg= int(input(\"Segundos: \"))\n",
        "    print(\"Coreesponde a \",Convertir_A_Segundos(horas,minu,seg),\" segundos\")\n",
        "  elif opcion == 2:\n",
        "    segund= int(input(\"Segundos: \"))  \n",
        "    horas, minu, seg = Convertir_A_HMS(segund)\n",
        "    print(\"Corresponde a :\",horas,\":\",minu,\":\",seg)\n",
        "  elif opcion == 3:\n",
        "    break\n",
        "  else :\n",
        "    print(\"***Opción Incorrecta***\")    "
      ],
      "metadata": {
        "id": "1Nmk9-iS0gCg",
        "colab": {
          "base_uri": "https://localhost:8080/"
        },
        "outputId": "85459d35-6c2f-425b-8ef8-6eb458df67b4"
      },
      "execution_count": 59,
      "outputs": [
        {
          "name": "stdout",
          "output_type": "stream",
          "text": [
            "1.- Convertir a segundos\n",
            "2.- Convertir a h:m:s\n",
            "3.- Salir\n",
            "2\n",
            "Segundos: 34\n",
            "Corresponde a : 0 : 0 : 34\n",
            "1.- Convertir a segundos\n",
            "2.- Convertir a h:m:s\n",
            "3.- Salir\n",
            "3\n"
          ]
        }
      ]
    },
    {
      "cell_type": "markdown",
      "source": [
        "# Ejemplo 5\n",
        "\n",
        "- Función ValidarFecha: Recibe un día, mes y año correspondiente a una fecha y  devuelve si la fecha es correcta o no.\n",
        "Simplemente miramos si el día indicado es mayor que 1 y menor que los días del mes. Si introducimos un mes incorrecto, la función DiasDelMes devuelve 0 por lo tanto la fecha va a ser incorrecta.\n",
        "Parámetros de entrada: día, mes y año\n",
        "-  Dato devuelto: Valor lógico indicando si es correcta (Verdadero) o no (Falso)"
      ],
      "metadata": {
        "id": "8QeHRDNa1C3n"
      }
    },
    {
      "cell_type": "code",
      "source": [
        "#Ejemplo 5\n",
        "\n",
        "from datetime import datetime\n",
        "\n",
        "while True:\n",
        "  print(\"Validar fecha? y/n\")\n",
        "  respuesta = input()\n",
        "  if respuesta == \"y\":\n",
        "    try:\n",
        "        fecha = input(\"Ingresa una fecha en el formato YYYY-MM-DD: \")\n",
        "        datetime.strptime(fecha, '%Y-%m-%d')\n",
        "        print(\"Fecha válida\")\n",
        "    except ValueError:\n",
        "        print(\"Fecha inválida\")\n",
        "  else  :\n",
        "    break    "
      ],
      "metadata": {
        "id": "ejA6sUme1bS2",
        "colab": {
          "base_uri": "https://localhost:8080/"
        },
        "outputId": "d5899a31-d731-45d5-ef71-424f39fe511f"
      },
      "execution_count": 61,
      "outputs": [
        {
          "name": "stdout",
          "output_type": "stream",
          "text": [
            "Validar fecha? y/n\n",
            "y\n",
            "Ingresa una fecha en el formato YYYY-MM-DD: 2022-2-30\n",
            "Fecha inválida\n",
            "Validar fecha? y/n\n",
            "n\n"
          ]
        }
      ]
    },
    {
      "cell_type": "markdown",
      "metadata": {
        "id": "w7DrerwS1zd_"
      },
      "source": [
        "## ¡A resolver el reto!\n",
        "\n",
        "Vamos a prodecer a crear una lista de diccionarios, esto es, un directorio de estudiantes de SKILLS FOR WOMEN IN TECH que participarán en una edición en línea.\n",
        "\n",
        "Cada estudiante debe tener los siguientes atributos:\n",
        "- Nombre <str>\n",
        "- Edad <int>\n",
        "- Temas <lista>\n",
        "- Menores de edad <bool>\n",
        "\n",
        "Puedes asignar los datos a mano o utilizar funciones aleatorias para llenar los campos."
      ]
    },
    {
      "cell_type": "code",
      "metadata": {
        "id": "SVynPZKD2RAm",
        "colab": {
          "base_uri": "https://localhost:8080/"
        },
        "outputId": "5088d8c5-b610-401a-eaef-1cbfab0128c7"
      },
      "source": [
        "# All your code goes here!!!\n",
        "\n",
        "lts_SFW =[{'nombre':\"nada\",'edad':0,'temas':\"Cuaquiera\",'menores_de_edad':2}] \n",
        "\n",
        "print(\"<<__Registrar estudiante__>>\")\n",
        "nom = input(\"Nombre: \")\n",
        "age = int(input(\"Edad: \"))\n",
        "tem = input(\"Temas: \")\n",
        "men_e = int(input(\"Menores de edad: \"))\n",
        "\n",
        "lts_SFW[0]['nombre']= nom\n",
        "lts_SFW[0]['edad']= age\n",
        "lts_SFW[0]['temas']= tem\n",
        "lts_SFW[0]['menores_de_edad'] = men_e\n",
        "\n",
        "#probando datos en lista\n",
        "print(lts_SFW)\n",
        "\n",
        "while True :\n",
        "  eleccion=input(\"¿Desea agregar otro estudiante? (y/n) \")\n",
        "  if eleccion == 'y' :\n",
        "     nom = input(\"Nombre: \") \n",
        "     age = int(input(\"Edad: \"))\n",
        "     tem = input(\"Temas: \")\n",
        "     men_e = int(input(\"Menores de edad: \"))\n",
        "     lts_SFW.append({'nombre':nom, 'edad':age, 'temas':tem,'menores_de_edad':men_e})\n",
        "     #probando las adiciones:\n",
        "     print(lts_SFW)\n",
        "  else :\n",
        "     print(\"Haz terminado de registrar\")\n",
        "     break"
      ],
      "execution_count": 24,
      "outputs": [
        {
          "name": "stdout",
          "output_type": "stream",
          "text": [
            "<<__Registrar estudiante__>>\n",
            "Nombre: lu\n",
            "Edad: 30\n",
            "Temas: sdfasd\n",
            "Menores de edad: 1\n",
            "[{'nombre': 'lu', 'edad': 30, 'temas': 'sdfasd', 'menores_de_edad': 1}]\n",
            "¿Desea agregar otro estudiante? (y/n) y\n",
            "Nombre: adrian\n",
            "Edad: 31\n",
            "Temas: dsf\n",
            "Menores de edad: 2\n",
            "[{'nombre': 'lu', 'edad': 30, 'temas': 'sdfasd', 'menores_de_edad': 1}, {'nombre': 'adrian', 'edad': 31, 'temas': 'dsf', 'menores_de_edad': 2}]\n",
            "Haz terminado de registrar\n",
            "¿Desea agregar otro estudiante? (y/n) y\n",
            "Nombre: julieta\n",
            "Edad: 28\n",
            "Temas: dfasdgr\n",
            "Menores de edad: 0\n",
            "[{'nombre': 'lu', 'edad': 30, 'temas': 'sdfasd', 'menores_de_edad': 1}, {'nombre': 'adrian', 'edad': 31, 'temas': 'dsf', 'menores_de_edad': 2}, {'nombre': 'julieta', 'edad': 28, 'temas': 'dfasdgr', 'menores_de_edad': 0}]\n",
            "Haz terminado de registrar\n",
            "¿Desea agregar otro estudiante? (y/n) n\n"
          ]
        }
      ]
    },
    {
      "cell_type": "markdown",
      "metadata": {
        "id": "efpB7jYb3hQj"
      },
      "source": [
        "--------\n",
        "\n",
        "> Contenido creado por **Jesús López**  2022. <br>\n",
        "> Contacto: [@jalopez_garcia](https://www.instagram.com/jalopez_garcia/) & [@jalopez_garcia](https://twitter.com/jalopez_garcia)"
      ]
    }
  ]
}